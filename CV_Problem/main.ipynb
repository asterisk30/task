{
 "cells": [
  {
   "cell_type": "code",
   "execution_count": 1,
   "metadata": {},
   "outputs": [],
   "source": [
    "import pandas as pd\n",
    "import numpy  as np\n",
    "import pickle\n",
    "import random"
   ]
  },
  {
   "cell_type": "code",
   "execution_count": 2,
   "metadata": {},
   "outputs": [
    {
     "ename": "ModuleNotFoundError",
     "evalue": "No module named 'keras'",
     "output_type": "error",
     "traceback": [
      "\u001b[0;31m---------------------------------------------------------------------------\u001b[0m",
      "\u001b[0;31mModuleNotFoundError\u001b[0m                       Traceback (most recent call last)",
      "\u001b[0;32m<ipython-input-2-3eada800a991>\u001b[0m in \u001b[0;36m<module>\u001b[0;34m\u001b[0m\n\u001b[0;32m----> 1\u001b[0;31m \u001b[0;32mfrom\u001b[0m \u001b[0mkeras\u001b[0m\u001b[0;34m.\u001b[0m\u001b[0mutils\u001b[0m \u001b[0;32mimport\u001b[0m \u001b[0mto_categorical\u001b[0m\u001b[0;34m\u001b[0m\u001b[0;34m\u001b[0m\u001b[0m\n\u001b[0m\u001b[1;32m      2\u001b[0m \u001b[0;32mfrom\u001b[0m \u001b[0msklearn\u001b[0m\u001b[0;34m.\u001b[0m\u001b[0mmodel_selection\u001b[0m \u001b[0;32mimport\u001b[0m \u001b[0mtrain_test_split\u001b[0m\u001b[0;34m\u001b[0m\u001b[0;34m\u001b[0m\u001b[0m\n",
      "\u001b[0;31mModuleNotFoundError\u001b[0m: No module named 'keras'"
     ]
    }
   ],
   "source": [
    "from keras.utils import to_categorical\n",
    "from sklearn.model_selection import train_test_split"
   ]
  },
  {
   "cell_type": "code",
   "execution_count": 163,
   "metadata": {},
   "outputs": [],
   "source": [
    "def load_pickle_file(file):    \n",
    "    with open(file,\"rb\") as d:\n",
    "        result = pickle.load(d)\n",
    "    return result"
   ]
  },
  {
   "cell_type": "code",
   "execution_count": 185,
   "metadata": {},
   "outputs": [],
   "source": [
    "train  = load_pickle_file(\"data/train_image.pkl\")\n",
    "labels = load_pickle_file(\"data/train_label.pkl\")\n",
    "# test   = load_pickle_file(\"data/test_image.pkl\")"
   ]
  },
  {
   "cell_type": "code",
   "execution_count": 186,
   "metadata": {},
   "outputs": [
    {
     "name": "stdout",
     "output_type": "stream",
     "text": [
      "Original labels :  {0, 2, 3, 6}\n"
     ]
    }
   ],
   "source": [
    "print(\"Original labels : \",set(labels))"
   ]
  },
  {
   "cell_type": "code",
   "execution_count": 187,
   "metadata": {},
   "outputs": [],
   "source": [
    "#mapping to new labels .    0->0  , 2->1, 3->2 , 6->3\n",
    "#because after onehot encoding 6, it will be [0,0,0,0,0,1], but 3 will be [0,0,0,1]\n",
    "for i in range(len(labels)):\n",
    "    x = labels[i]\n",
    "    if x==2:\n",
    "        labels[i]=1\n",
    "    if x==3:\n",
    "        labels[i]=2\n",
    "    if x==6:\n",
    "        labels[i]=3"
   ]
  },
  {
   "cell_type": "code",
   "execution_count": 188,
   "metadata": {},
   "outputs": [
    {
     "name": "stdout",
     "output_type": "stream",
     "text": [
      "New labels :  {0, 1, 2, 3}\n"
     ]
    }
   ],
   "source": [
    "print(\"New labels : \",set(labels)) # for converting to categorical."
   ]
  },
  {
   "cell_type": "code",
   "execution_count": 189,
   "metadata": {},
   "outputs": [],
   "source": [
    "#randomly shuffling training set, because initially it is all 0's first,then 2's,then 3's,then 6's\n",
    "train_set = list(zip(train,labels))\n",
    "\n",
    "random.shuffle(train_set)\n",
    "\n",
    "train, labels = zip(*train_set)"
   ]
  },
  {
   "cell_type": "code",
   "execution_count": 190,
   "metadata": {},
   "outputs": [
    {
     "name": "stdout",
     "output_type": "stream",
     "text": [
      "Training set size :  8000\n",
      "6000\n",
      "2000\n"
     ]
    }
   ],
   "source": [
    "print(\"Training set size : \",len(train))\n",
    "\n",
    "#Last 2000 rows for validation \n",
    "test = train[6000:]\n",
    "label_test  = labels[6000:]\n",
    "\n",
    "#First 6000 rows for Training\n",
    "train = train[:6000]\n",
    "label_train = labels[:6000]\n",
    "\n",
    "\n",
    "\n",
    "print(\"Train : \",len(train))\n",
    "print(\"Validation : \":len(test))"
   ]
  },
  {
   "cell_type": "code",
   "execution_count": 191,
   "metadata": {},
   "outputs": [
    {
     "name": "stdout",
     "output_type": "stream",
     "text": [
      "1.7.1\n"
     ]
    }
   ],
   "source": [
    "import tensorflow as tf\n",
    "print(tf.VERSION)"
   ]
  },
  {
   "cell_type": "code",
   "execution_count": 192,
   "metadata": {},
   "outputs": [],
   "source": [
    "X = np.array(train)\n",
    "y = to_categorical(np.array(label_train))"
   ]
  },
  {
   "cell_type": "code",
   "execution_count": 193,
   "metadata": {},
   "outputs": [],
   "source": [
    "X_train, X_val, y_train, y_val = train_test_split(X, y, test_size=0.2, random_state=13)\n",
    "\n",
    "X_test = np.array(test)\n",
    "y_test = to_categorical(np.array(label_test))"
   ]
  },
  {
   "cell_type": "code",
   "execution_count": 194,
   "metadata": {},
   "outputs": [],
   "source": [
    "img_rows, img_cols = 28, 28\n",
    "input_shape = (img_rows, img_cols, 1)\n",
    "\n",
    "# Prepare the training images\n",
    "X_train = X_train.reshape(X_train.shape[0], img_rows, img_cols, 1)\n",
    "X_train = X_train.astype('float32')\n",
    "X_train /= 255\n",
    "\n",
    "# Prepare the test images\n",
    "X_test = X_test.reshape(X_test.shape[0], img_rows, img_cols, 1)\n",
    "X_test = X_test.astype('float32')\n",
    "X_test /= 255\n",
    "\n",
    "# Prepare the validation images\n",
    "X_val = X_val.reshape(X_val.shape[0], img_rows, img_cols, 1)\n",
    "X_val = X_val.astype('float32')\n",
    "X_val /= 255"
   ]
  },
  {
   "cell_type": "code",
   "execution_count": 200,
   "metadata": {},
   "outputs": [],
   "source": [
    "# Import Keras libraries\n",
    "import keras\n",
    "from keras.models import Sequential\n",
    "from keras.layers import Dense, Dropout, Flatten\n",
    "from keras.layers import Conv2D, MaxPooling2D, BatchNormalization"
   ]
  },
  {
   "cell_type": "code",
   "execution_count": 212,
   "metadata": {},
   "outputs": [],
   "source": [
    "cnn4 = Sequential()\n",
    "cnn4.add(Conv2D(32, kernel_size=(3, 3), activation='relu', input_shape=input_shape))\n",
    "cnn4.add(BatchNormalization())\n",
    "\n",
    "cnn4.add(Conv2D(32, kernel_size=(3, 3), activation='relu'))\n",
    "cnn4.add(BatchNormalization())\n",
    "cnn4.add(MaxPooling2D(pool_size=(2, 2)))\n",
    "cnn4.add(Dropout(0.25))\n",
    "\n",
    "cnn4.add(Conv2D(64, kernel_size=(3, 3), activation='relu'))\n",
    "cnn4.add(BatchNormalization())\n",
    "cnn4.add(Dropout(0.25))\n",
    "\n",
    "cnn4.add(Conv2D(128, kernel_size=(3, 3), activation='relu'))\n",
    "cnn4.add(BatchNormalization())\n",
    "cnn4.add(MaxPooling2D(pool_size=(2, 2)))\n",
    "cnn4.add(Dropout(0.25))\n",
    "\n",
    "cnn4.add(Flatten())\n",
    "\n",
    "cnn4.add(Dense(512, activation='relu'))\n",
    "cnn4.add(BatchNormalization())\n",
    "cnn4.add(Dropout(0.5))\n",
    "\n",
    "cnn4.add(Dense(128, activation='relu'))\n",
    "cnn4.add(BatchNormalization())\n",
    "cnn4.add(Dropout(0.5))\n",
    "\n",
    "cnn4.add(Dense(4, activation='softmax'))"
   ]
  },
  {
   "cell_type": "code",
   "execution_count": 213,
   "metadata": {},
   "outputs": [
    {
     "name": "stdout",
     "output_type": "stream",
     "text": [
      "_________________________________________________________________\n",
      "Layer (type)                 Output Shape              Param #   \n",
      "=================================================================\n",
      "conv2d_20 (Conv2D)           (None, 26, 26, 32)        320       \n",
      "_________________________________________________________________\n",
      "batch_normalization_13 (Batc (None, 26, 26, 32)        128       \n",
      "_________________________________________________________________\n",
      "conv2d_21 (Conv2D)           (None, 24, 24, 32)        9248      \n",
      "_________________________________________________________________\n",
      "batch_normalization_14 (Batc (None, 24, 24, 32)        128       \n",
      "_________________________________________________________________\n",
      "max_pooling2d_15 (MaxPooling (None, 12, 12, 32)        0         \n",
      "_________________________________________________________________\n",
      "dropout_21 (Dropout)         (None, 12, 12, 32)        0         \n",
      "_________________________________________________________________\n",
      "conv2d_22 (Conv2D)           (None, 10, 10, 64)        18496     \n",
      "_________________________________________________________________\n",
      "batch_normalization_15 (Batc (None, 10, 10, 64)        256       \n",
      "_________________________________________________________________\n",
      "dropout_22 (Dropout)         (None, 10, 10, 64)        0         \n",
      "_________________________________________________________________\n",
      "conv2d_23 (Conv2D)           (None, 8, 8, 128)         73856     \n",
      "_________________________________________________________________\n",
      "batch_normalization_16 (Batc (None, 8, 8, 128)         512       \n",
      "_________________________________________________________________\n",
      "max_pooling2d_16 (MaxPooling (None, 4, 4, 128)         0         \n",
      "_________________________________________________________________\n",
      "dropout_23 (Dropout)         (None, 4, 4, 128)         0         \n",
      "_________________________________________________________________\n",
      "flatten_13 (Flatten)         (None, 2048)              0         \n",
      "_________________________________________________________________\n",
      "dense_27 (Dense)             (None, 512)               1049088   \n",
      "_________________________________________________________________\n",
      "batch_normalization_17 (Batc (None, 512)               2048      \n",
      "_________________________________________________________________\n",
      "dropout_24 (Dropout)         (None, 512)               0         \n",
      "_________________________________________________________________\n",
      "dense_28 (Dense)             (None, 128)               65664     \n",
      "_________________________________________________________________\n",
      "batch_normalization_18 (Batc (None, 128)               512       \n",
      "_________________________________________________________________\n",
      "dropout_25 (Dropout)         (None, 128)               0         \n",
      "_________________________________________________________________\n",
      "dense_29 (Dense)             (None, 4)                 516       \n",
      "=================================================================\n",
      "Total params: 1,220,772\n",
      "Trainable params: 1,218,980\n",
      "Non-trainable params: 1,792\n",
      "_________________________________________________________________\n"
     ]
    }
   ],
   "source": [
    "cnn4.compile(loss=keras.losses.categorical_crossentropy,\n",
    "              optimizer=keras.optimizers.Adam(),\n",
    "              metrics=['accuracy'])\n",
    "cnn4.summary()"
   ]
  },
  {
   "cell_type": "code",
   "execution_count": null,
   "metadata": {},
   "outputs": [],
   "source": [
    "from keras.preprocessing.image import ImageDataGenerator\n",
    "gen = ImageDataGenerator(rotation_range=8, width_shift_range=0.08, shear_range=0.3,\n",
    "                               height_shift_range=0.08, zoom_range=0.08)\n",
    "batches = gen.flow(X_train, y_train, batch_size=256)\n",
    "val_batches = gen.flow(X_val, y_val, batch_size=256)"
   ]
  },
  {
   "cell_type": "code",
   "execution_count": 214,
   "metadata": {},
   "outputs": [
    {
     "name": "stdout",
     "output_type": "stream",
     "text": [
      "Epoch 1/50\n",
      "23/23 [==============================] - 29s 1s/step - loss: 1.3864 - acc: 0.5249 - val_loss: 0.9292 - val_acc: 0.6495\n",
      "Epoch 2/50\n",
      "23/23 [==============================] - 26s 1s/step - loss: 1.0324 - acc: 0.6153 - val_loss: 0.7861 - val_acc: 0.6857\n",
      "Epoch 3/50\n",
      "23/23 [==============================] - 27s 1s/step - loss: 0.8891 - acc: 0.6506 - val_loss: 0.6425 - val_acc: 0.7292\n",
      "Epoch 4/50\n",
      "23/23 [==============================] - 27s 1s/step - loss: 0.7786 - acc: 0.6781 - val_loss: 0.6715 - val_acc: 0.7144\n",
      "Epoch 5/50\n",
      "23/23 [==============================] - 27s 1s/step - loss: 0.7412 - acc: 0.7000 - val_loss: 0.6282 - val_acc: 0.7286\n",
      "Epoch 6/50\n",
      "23/23 [==============================] - 30s 1s/step - loss: 0.6933 - acc: 0.7166 - val_loss: 0.7032 - val_acc: 0.6828\n",
      "Epoch 7/50\n",
      "23/23 [==============================] - 31s 1s/step - loss: 0.6777 - acc: 0.7213 - val_loss: 0.6646 - val_acc: 0.6957\n",
      "Epoch 8/50\n",
      "23/23 [==============================] - 30s 1s/step - loss: 0.6338 - acc: 0.7395 - val_loss: 0.6068 - val_acc: 0.7359\n",
      "Epoch 9/50\n",
      "23/23 [==============================] - 30s 1s/step - loss: 0.5971 - acc: 0.7583 - val_loss: 0.6057 - val_acc: 0.7325\n",
      "Epoch 10/50\n",
      "23/23 [==============================] - 30s 1s/step - loss: 0.5988 - acc: 0.7572 - val_loss: 0.5659 - val_acc: 0.7598\n",
      "Epoch 11/50\n",
      "23/23 [==============================] - 32s 1s/step - loss: 0.5697 - acc: 0.7673 - val_loss: 0.5540 - val_acc: 0.7786\n",
      "Epoch 12/50\n",
      "23/23 [==============================] - 31s 1s/step - loss: 0.5632 - acc: 0.7778 - val_loss: 0.5677 - val_acc: 0.7675\n",
      "Epoch 13/50\n",
      "23/23 [==============================] - 31s 1s/step - loss: 0.5628 - acc: 0.7782 - val_loss: 0.4878 - val_acc: 0.7984\n",
      "Epoch 14/50\n",
      "23/23 [==============================] - 31s 1s/step - loss: 0.5239 - acc: 0.7903 - val_loss: 0.5257 - val_acc: 0.7798\n",
      "Epoch 15/50\n",
      "23/23 [==============================] - 32s 1s/step - loss: 0.5129 - acc: 0.7980 - val_loss: 0.5115 - val_acc: 0.7953\n",
      "Epoch 16/50\n",
      "23/23 [==============================] - 30s 1s/step - loss: 0.5171 - acc: 0.7989 - val_loss: 0.5988 - val_acc: 0.7401\n",
      "Epoch 17/50\n",
      "23/23 [==============================] - 32s 1s/step - loss: 0.5092 - acc: 0.8011 - val_loss: 0.5242 - val_acc: 0.7821\n",
      "Epoch 18/50\n",
      "23/23 [==============================] - 33s 1s/step - loss: 0.4891 - acc: 0.8065 - val_loss: 0.4779 - val_acc: 0.7990\n",
      "Epoch 19/50\n",
      "23/23 [==============================] - 32s 1s/step - loss: 0.4917 - acc: 0.8045 - val_loss: 0.5907 - val_acc: 0.7529\n",
      "Epoch 20/50\n",
      "23/23 [==============================] - 31s 1s/step - loss: 0.4900 - acc: 0.8089 - val_loss: 0.6329 - val_acc: 0.7328\n",
      "Epoch 21/50\n",
      "23/23 [==============================] - 32s 1s/step - loss: 0.4584 - acc: 0.8173 - val_loss: 0.5095 - val_acc: 0.7961\n",
      "Epoch 22/50\n",
      "23/23 [==============================] - 32s 1s/step - loss: 0.4740 - acc: 0.8123 - val_loss: 0.4582 - val_acc: 0.8242\n",
      "Epoch 23/50\n",
      "23/23 [==============================] - 39s 2s/step - loss: 0.4569 - acc: 0.8184 - val_loss: 0.5185 - val_acc: 0.7935\n",
      "Epoch 24/50\n",
      "23/23 [==============================] - 38s 2s/step - loss: 0.4514 - acc: 0.8279 - val_loss: 0.4672 - val_acc: 0.8090\n",
      "Epoch 25/50\n",
      "23/23 [==============================] - 38s 2s/step - loss: 0.4588 - acc: 0.8193 - val_loss: 0.5636 - val_acc: 0.7604\n",
      "Epoch 26/50\n",
      "23/23 [==============================] - 38s 2s/step - loss: 0.4477 - acc: 0.8243 - val_loss: 0.6337 - val_acc: 0.7307\n",
      "Epoch 27/50\n",
      "23/23 [==============================] - 32s 1s/step - loss: 0.4308 - acc: 0.8347 - val_loss: 0.4756 - val_acc: 0.8002\n",
      "Epoch 28/50\n",
      "23/23 [==============================] - 32s 1s/step - loss: 0.4468 - acc: 0.8290 - val_loss: 0.6758 - val_acc: 0.7028\n",
      "Epoch 29/50\n",
      "23/23 [==============================] - 32s 1s/step - loss: 0.4441 - acc: 0.8258 - val_loss: 0.4430 - val_acc: 0.8248\n",
      "Epoch 30/50\n",
      "23/23 [==============================] - 32s 1s/step - loss: 0.4282 - acc: 0.8300 - val_loss: 0.4430 - val_acc: 0.8180\n",
      "Epoch 31/50\n",
      "23/23 [==============================] - 31s 1s/step - loss: 0.4234 - acc: 0.8347 - val_loss: 0.4250 - val_acc: 0.8324\n",
      "Epoch 32/50\n",
      "23/23 [==============================] - 31s 1s/step - loss: 0.4059 - acc: 0.8446 - val_loss: 0.5245 - val_acc: 0.7886\n",
      "Epoch 33/50\n",
      "23/23 [==============================] - 32s 1s/step - loss: 0.3998 - acc: 0.8416 - val_loss: 0.7762 - val_acc: 0.6912\n",
      "Epoch 34/50\n",
      "23/23 [==============================] - 32s 1s/step - loss: 0.4095 - acc: 0.8426 - val_loss: 0.5525 - val_acc: 0.7786\n",
      "Epoch 35/50\n",
      "23/23 [==============================] - 31s 1s/step - loss: 0.4048 - acc: 0.8479 - val_loss: 0.5426 - val_acc: 0.7862\n",
      "Epoch 36/50\n",
      "23/23 [==============================] - 35s 2s/step - loss: 0.3873 - acc: 0.8560 - val_loss: 0.4072 - val_acc: 0.8493\n",
      "Epoch 37/50\n",
      "23/23 [==============================] - 39s 2s/step - loss: 0.4029 - acc: 0.8495 - val_loss: 0.4361 - val_acc: 0.8324\n",
      "Epoch 38/50\n",
      "23/23 [==============================] - 41s 2s/step - loss: 0.3870 - acc: 0.8491 - val_loss: 0.4672 - val_acc: 0.8094\n",
      "Epoch 39/50\n",
      "23/23 [==============================] - 39s 2s/step - loss: 0.3908 - acc: 0.8485 - val_loss: 0.4965 - val_acc: 0.8008\n",
      "Epoch 40/50\n",
      "23/23 [==============================] - 40s 2s/step - loss: 0.3897 - acc: 0.8460 - val_loss: 0.5526 - val_acc: 0.7886\n",
      "Epoch 41/50\n",
      "23/23 [==============================] - 39s 2s/step - loss: 0.3860 - acc: 0.8542 - val_loss: 0.4124 - val_acc: 0.8324\n",
      "Epoch 42/50\n",
      "23/23 [==============================] - 39s 2s/step - loss: 0.3915 - acc: 0.8519 - val_loss: 0.5570 - val_acc: 0.7769\n",
      "Epoch 43/50\n",
      "23/23 [==============================] - 42s 2s/step - loss: 0.3655 - acc: 0.8593 - val_loss: 0.4062 - val_acc: 0.8444\n",
      "Epoch 44/50\n",
      "23/23 [==============================] - 37s 2s/step - loss: 0.3603 - acc: 0.8606 - val_loss: 0.4295 - val_acc: 0.8289\n",
      "Epoch 45/50\n",
      "23/23 [==============================] - 37s 2s/step - loss: 0.3537 - acc: 0.8682 - val_loss: 0.4268 - val_acc: 0.8205\n",
      "Epoch 46/50\n",
      "23/23 [==============================] - 35s 2s/step - loss: 0.3707 - acc: 0.8615 - val_loss: 0.3974 - val_acc: 0.8400\n",
      "Epoch 47/50\n",
      "23/23 [==============================] - 36s 2s/step - loss: 0.3662 - acc: 0.8610 - val_loss: 0.4540 - val_acc: 0.8113\n",
      "Epoch 48/50\n",
      "23/23 [==============================] - 36s 2s/step - loss: 0.3534 - acc: 0.8657 - val_loss: 0.3742 - val_acc: 0.8603\n",
      "Epoch 49/50\n",
      "23/23 [==============================] - 36s 2s/step - loss: 0.3506 - acc: 0.8671 - val_loss: 0.4151 - val_acc: 0.8341\n",
      "Epoch 50/50\n",
      "23/23 [==============================] - 37s 2s/step - loss: 0.3578 - acc: 0.8631 - val_loss: 0.3560 - val_acc: 0.8578\n"
     ]
    }
   ],
   "source": [
    "history4 = cnn4.fit_generator(batches, steps_per_epoch=6000//256, epochs=50,\n",
    "                    validation_data=val_batches, validation_steps=2000//256, use_multiprocessing=True)"
   ]
  },
  {
   "cell_type": "code",
   "execution_count": 215,
   "metadata": {},
   "outputs": [
    {
     "name": "stdout",
     "output_type": "stream",
     "text": [
      "Test loss: 0.40669400203227996\n",
      "Test accuracy: 0.8465\n"
     ]
    }
   ],
   "source": [
    "score4 = cnn4.evaluate(X_test, y_test, verbose=0)\n",
    "print('Test loss:', score4[0])\n",
    "print('Test accuracy:', score4[1])"
   ]
  },
  {
   "cell_type": "code",
   "execution_count": 216,
   "metadata": {},
   "outputs": [
    {
     "data": {
      "image/png": "[encoded data removed]",
      "text/plain": [
       "<Figure size 432x288 with 1 Axes>"
      ]
     },
     "metadata": {
      "needs_background": "light"
     },
     "output_type": "display_data"
    },
    {
     "data": {
      "image/png": "[encoded data removed]",
      "text/plain": [
       "<Figure size 432x288 with 1 Axes>"
      ]
     },
     "metadata": {
      "needs_background": "light"
     },
     "output_type": "display_data"
    }
   ],
   "source": [
    "import matplotlib.pyplot as plt\n",
    "%matplotlib inline\n",
    "\n",
    "accuracy = history4.history['acc']\n",
    "val_accuracy = history4.history['val_acc']\n",
    "loss = history4.history['loss']\n",
    "val_loss = history4.history['val_loss']\n",
    "epochs = range(len(accuracy))\n",
    "\n",
    "plt.plot(epochs, accuracy, 'bo', label='Training accuracy')\n",
    "plt.plot(epochs, val_accuracy, 'b', label='Validation accuracy')\n",
    "plt.title('Training and validation accuracy')\n",
    "plt.legend()\n",
    "plt.figure()\n",
    "\n",
    "plt.plot(epochs, loss, 'bo', label='Training loss')\n",
    "plt.plot(epochs, val_loss, 'b', label='Validation loss')\n",
    "plt.title('Training and validation loss')\n",
    "plt.legend()\n",
    "plt.show()"
   ]
  },
  {
   "cell_type": "code",
   "execution_count": 217,
   "metadata": {},
   "outputs": [],
   "source": [
    "predicted_classes = cnn4.predict_classes(X_test)\n",
    "\n",
    "# get the indices to be plotted\n",
    "y_true = label_test\n",
    "correct = np.nonzero(predicted_classes==y_true)[0]\n",
    "incorrect = np.nonzero(predicted_classes!=y_true)[0]"
   ]
  },
  {
   "cell_type": "code",
   "execution_count": 218,
   "metadata": {},
   "outputs": [
    {
     "name": "stdout",
     "output_type": "stream",
     "text": [
      "              precision    recall  f1-score   support\n",
      "\n",
      "     Class 0       0.92      0.74      0.82       488\n",
      "     Class 1       0.95      0.82      0.88       519\n",
      "     Class 2       0.94      0.92      0.93       510\n",
      "     Class 3       0.66      0.91      0.76       483\n",
      "\n",
      "   micro avg       0.85      0.85      0.85      2000\n",
      "   macro avg       0.87      0.85      0.85      2000\n",
      "weighted avg       0.87      0.85      0.85      2000\n",
      "\n"
     ]
    }
   ],
   "source": [
    "from sklearn.metrics import classification_report\n",
    "target_names = [\"Class {}\".format(i) for i in range(4)]\n",
    "print(classification_report(y_true, predicted_classes, target_names=target_names))"
   ]
  },
  {
   "cell_type": "code",
   "execution_count": 219,
   "metadata": {},
   "outputs": [
    {
     "data": {
      "image/png": "[encoded data removed]",
      "text/plain": [
       "<Figure size 432x288 with 9 Axes>"
      ]
     },
     "metadata": {
      "needs_background": "light"
     },
     "output_type": "display_data"
    }
   ],
   "source": [
    "for i, correct in enumerate(correct[:9]):\n",
    "    plt.subplot(3,3,i+1)\n",
    "    plt.imshow(X_test[correct].reshape(28,28), cmap='gray', interpolation='none')\n",
    "    plt.title(\"Predicted {}, Class {}\".format(predicted_classes[correct], y_true[correct]))\n",
    "    plt.tight_layout()"
   ]
  },
  {
   "cell_type": "code",
   "execution_count": 220,
   "metadata": {},
   "outputs": [
    {
     "data": {
      "image/png": "[encoded data removed]",
      "text/plain": [
       "<Figure size 432x288 with 9 Axes>"
      ]
     },
     "metadata": {
      "needs_background": "light"
     },
     "output_type": "display_data"
    }
   ],
   "source": [
    "for i, incorrect in enumerate(incorrect[0:9]):\n",
    "    plt.subplot(3,3,i+1)\n",
    "    plt.imshow(X_test[incorrect].reshape(28,28), cmap='gray', interpolation='none')\n",
    "    plt.title(\"Predicted {}, Class {}\".format(predicted_classes[incorrect], y_true[incorrect]))\n",
    "    plt.tight_layout()"
   ]
  },
  {
   "cell_type": "code",
   "execution_count": 221,
   "metadata": {},
   "outputs": [
    {
     "data": {
      "text/plain": [
       "2000"
      ]
     },
     "execution_count": 221,
     "metadata": {},
     "output_type": "execute_result"
    }
   ],
   "source": [
    "len(predicted_classes)"
   ]
  },
  {
   "cell_type": "code",
   "execution_count": 222,
   "metadata": {},
   "outputs": [],
   "source": [
    "#converting back to original classes\n",
    "for i in range(len(predicted_classes)):\n",
    "    x = predicted_classes[i]\n",
    "    if x==1:\n",
    "        predicted_classes[i]=2\n",
    "    if x==2:\n",
    "        predicted_classes[i]=3\n",
    "    if x==3:\n",
    "        predicted_classes[i]=6"
   ]
  },
  {
   "cell_type": "code",
   "execution_count": 223,
   "metadata": {},
   "outputs": [
    {
     "data": {
      "text/plain": [
       "array([2, 3, 6, ..., 0, 0, 6])"
      ]
     },
     "execution_count": 223,
     "metadata": {},
     "output_type": "execute_result"
    }
   ],
   "source": [
    "predicted_classes"
   ]
  },
  {
   "cell_type": "code",
   "execution_count": 224,
   "metadata": {},
   "outputs": [],
   "source": [
    "with open(\"UTKARSH_SINGH.csv\",\"w\") as f:\n",
    "    f.write(\"image_index,class\\n\")\n",
    "    for i in range(len(predicted_classes)):\n",
    "        f.write(str(i)+\",\"+str(predicted_classes[i])+\"\\n\")"
   ]
  },
  {
   "cell_type": "code",
   "execution_count": null,
   "metadata": {},
   "outputs": [],
   "source": []
  }
 ],
 "metadata": {
  "kernelspec": {
   "display_name": "Python 3",
   "language": "python",
   "name": "python3"
  },
  "language_info": {
   "codemirror_mode": {
    "name": "ipython",
    "version": 3
   },
   "file_extension": ".py",
   "mimetype": "text/x-python",
   "name": "python",
   "nbconvert_exporter": "python",
   "pygments_lexer": "ipython3",
   "version": "3.6.7"
  },
  "toc": {
   "base_numbering": 1,
   "nav_menu": {},
   "number_sections": true,
   "sideBar": true,
   "skip_h1_title": false,
   "title_cell": "Table of Contents",
   "title_sidebar": "Contents",
   "toc_cell": false,
   "toc_position": {},
   "toc_section_display": true,
   "toc_window_display": false
  }
 },
 "nbformat": 4,
 "nbformat_minor": 2
}
