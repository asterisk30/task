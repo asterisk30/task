{
 "cells": [
  {
   "cell_type": "code",
   "execution_count": 1,
   "metadata": {},
   "outputs": [],
   "source": [
    "import tweepy\n",
    "import json\n",
    "import jsonlines\n",
    "import pprint"
   ]
  },
  {
   "cell_type": "code",
   "execution_count": 2,
   "metadata": {},
   "outputs": [],
   "source": [
    "consumer_key = \"qZxyo16WKljqfEyX6N0141IqW\" \n",
    "consumer_secret = \"JVKWmVTT1bxHkNadfmEb1O1j9mQtlCwgr8wKOw0d5LnJxKsr2A\"\n",
    "access_key = \"937004786481635328-kNxGkjB00W7uL1Srr7SqJL3FcR06wFn\"\n",
    "access_secret = \"CozseEdSi9PQVhGdHCtusMN1MfmDIbFOep5ELqiNFNUPf\""
   ]
  },
  {
   "cell_type": "code",
   "execution_count": 3,
   "metadata": {},
   "outputs": [],
   "source": [
    "def getTweets(username):\n",
    "    auth=tweepy.OAuthHandler(consumer_key,consumer_secret)\n",
    "    auth.set_access_token(access_key,access_secret)\n",
    "    api=tweepy.API(auth)\n",
    "    tweets=api.user_timeline(screen_name=username,no_of_tweets=200)\n",
    "    return tweets"
   ]
  },
  {
   "cell_type": "code",
   "execution_count": 4,
   "metadata": {},
   "outputs": [],
   "source": [
    "tweets = getTweets(\"@midasIIITD\")"
   ]
  },
  {
   "cell_type": "code",
   "execution_count": 5,
   "metadata": {},
   "outputs": [],
   "source": [
    "import pandas as pd\n",
    "\n",
    "column_list = [\"Text\",\"Date/Time\",\"Favories/Likes\",\"#Retweets\",\"#Images\"]\n",
    "\n",
    "result =pd.DataFrame(columns=column_list)"
   ]
  },
  {
   "cell_type": "code",
   "execution_count": 6,
   "metadata": {},
   "outputs": [],
   "source": [
    "for tweet in tweets:\n",
    "#     print(tweet.entities)\n",
    "#         print(True in [medium['type'] == 'photo' for medium in tweet.entities['media']])\n",
    "    image_count = 0\n",
    "    if 'media' in tweet.entities:\n",
    "        for image in tweet.entities['media']:\n",
    "#             print(image['media_url'])\n",
    "            image_count+=1\n",
    "    if(image_count==0):\n",
    "        image_count=None\n",
    "#     print(tweet.text,tweet.created_at,tweet.favorite_count,tweet.retweet_count,image_count)\n",
    "    row = [tweet.created_at,tweet.text,tweet.favorite_count,tweet.retweet_count,image_count]\n",
    "    result.loc[len(result)] = row"
   ]
  },
  {
   "cell_type": "code",
   "execution_count": 8,
   "metadata": {},
   "outputs": [
    {
     "name": "stdout",
     "output_type": "stream",
     "text": [
      "                  Text                                          Date/Time  \\\n",
      "0  2019-04-10 17:05:53  @midasIIITD lab is looking for motivated MTech...   \n",
      "1  2019-04-10 16:47:25  We will close the submission portal for submit...   \n",
      "2  2019-04-10 09:01:29  Clarification: Our earlier post which indicate...   \n",
      "3  2019-04-10 04:51:26  RT @IIITDelhi: Applications open for MTech (CB...   \n",
      "4  2019-04-09 16:45:07  RT @IIITDelhi: We are delighted to share that ...   \n",
      "5  2019-04-09 05:04:27  RT @Harvard: Professor Jelani Nelson founded A...   \n",
      "6  2019-04-09 05:04:11  RT @emnlp2019: For anyone interested in submit...   \n",
      "7  2019-04-08 19:38:09  RT @multimediaeval: Announcing the 2019 MediaE...   \n",
      "8  2019-04-08 07:08:12  Many Congratulations to @midasIIITD student, S...   \n",
      "9  2019-04-08 03:27:42  @midasIIITD thanks all students who have appea...   \n",
      "10 2019-04-07 14:17:29  @himanchalchandr Meanwhile, complete CV/NLP ta...   \n",
      "11 2019-04-07 14:17:09  @sayangdipto123 Submit as per the guideline ag...   \n",
      "12 2019-04-07 11:43:24  We request all students whose interview are sc...   \n",
      "13 2019-04-07 06:55:19  Other queries: \"none of the Tweeter Apis give ...   \n",
      "14 2019-04-07 06:53:38  Other queries: \"do we have to make two differe...   \n",
      "15 2019-04-07 05:32:27  Other queries: \"If using Twitter api, it does ...   \n",
      "16 2019-04-07 05:29:40  Response to some queries asked by students on ...   \n",
      "17 2019-04-06 17:11:29  RT @kdnuggets: Top 8 #Free Must-Read #Books on...   \n",
      "18 2019-04-06 16:43:27  @nupur_baghel @PennDATS Congratulation @nupur_...   \n",
      "19 2019-04-05 16:08:37  We have emailed the task details to all candid...   \n",
      "\n",
      "   Favories/Likes #Retweets #Images  \n",
      "0               1         1    None  \n",
      "1               2         1    None  \n",
      "2               1         0    None  \n",
      "3               0         1    None  \n",
      "4               0        14    None  \n",
      "5               0        36    None  \n",
      "6               0        17    None  \n",
      "7               0        15    None  \n",
      "8              18         2    None  \n",
      "9               5         0    None  \n",
      "10              0         0    None  \n",
      "11              0         0    None  \n",
      "12              1         1    None  \n",
      "13              5         2    None  \n",
      "14              5         1    None  \n",
      "15              6         1    None  \n",
      "16              7         1    None  \n",
      "17              0         2    None  \n",
      "18             18         3    None  \n",
      "19             11         1    None  \n"
     ]
    }
   ],
   "source": [
    "print(result)"
   ]
  },
  {
   "cell_type": "code",
   "execution_count": null,
   "metadata": {},
   "outputs": [],
   "source": []
  }
 ],
 "metadata": {
  "kernelspec": {
   "display_name": "Python 3",
   "language": "python",
   "name": "python3"
  },
  "language_info": {
   "codemirror_mode": {
    "name": "ipython",
    "version": 3
   },
   "file_extension": ".py",
   "mimetype": "text/x-python",
   "name": "python",
   "nbconvert_exporter": "python",
   "pygments_lexer": "ipython3",
   "version": "3.6.7"
  },
  "toc": {
   "base_numbering": 1,
   "nav_menu": {},
   "number_sections": true,
   "sideBar": true,
   "skip_h1_title": false,
   "title_cell": "Table of Contents",
   "title_sidebar": "Contents",
   "toc_cell": false,
   "toc_position": {},
   "toc_section_display": true,
   "toc_window_display": false
  }
 },
 "nbformat": 4,
 "nbformat_minor": 2
}
